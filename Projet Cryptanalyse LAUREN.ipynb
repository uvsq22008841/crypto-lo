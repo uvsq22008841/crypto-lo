{
 "cells": [
  {
   "cell_type": "markdown",
   "metadata": {},
   "source": [
    "# Cryptanalyse\n",
    "\n",
    "Votre mission, si vous l'acceptez, est de déchiffrer 4 textes de difficulté croissante en vous aidant d'un programme python que vous allez écrire.\n",
    "\n",
    "\n",
    "- Les fichiers ont été cryptés avec des méthodes données en cours.\n",
    "- Les fichiers chiffrés contiennent des textes en ASCII. Une fois déchiffrés ils vous donneront des informations.\n",
    "- Vous devez vous baser sur les fréquences d'apparition des lettres en français (et des paires de lettres) pour casser les codes. Faire une fonction de calcul pour vous aider.\n",
    "- Penser à réutliser le code du td de cryptographie comme base de travail.\n",
    "- Le code de votre programme doit être sur github et vous fournirez un lien vers votre projet github avec le code et le résultat du décodage\n",
    "en le déposant sur Moodle avant le mercredi 12 mai.\n",
    "- Une soutenance sera organisée le 17 mai.\n",
    "\n",
    "\n"
   ]
  },
  {
   "cell_type": "code",
   "execution_count": 3,
   "metadata": {},
   "outputs": [],
   "source": [
    "msg_chiffre = \"dceuq e n ehfp cg p kyhhep uqfw cgiy citudm c gzudiq ni ezhd px c jhptv ep cggsht. kg hdtymdt xdzei gdx rzyq wir mvzxpw, cifcchdb znwd ccyw wy lkcsht, dp isgd uqfw wy ?\" \n",
    "msg3 = 'dceuq e n ehfp cg p kyhhep uqfw cgiy citudm c gzudiq ni ezhd px c jhptv ep cggsht. kg hdtymdt xdzei gdx rzyq wir mvzxpw, cifcchdb znwd ccyw wy lkcsht, dp isgd uqfw wy ?'"
   ]
  },
  {
   "cell_type": "code",
   "execution_count": 4,
   "metadata": {},
   "outputs": [
    {
     "output_type": "execute_result",
     "data": {
      "text/plain": [
       "[['c', 7.799999999999998],\n",
       " ['d', 7.199999999999998],\n",
       " ['h', 5.3999999999999995],\n",
       " ['p', 4.8],\n",
       " ['g', 4.8],\n",
       " ['w', 4.8],\n",
       " ['i', 4.8],\n",
       " ['e', 4.2],\n",
       " ['y', 4.2],\n",
       " ['t', 3.6],\n",
       " ['z', 3.6],\n",
       " ['u', 3.0],\n",
       " ['q', 3.0],\n",
       " ['f', 2.4],\n",
       " ['x', 2.4],\n",
       " ['n', 1.7999999999999998],\n",
       " ['k', 1.7999999999999998],\n",
       " ['m', 1.7999999999999998],\n",
       " ['s', 1.7999999999999998],\n",
       " ['v', 1.2],\n",
       " ['r', 1.2],\n",
       " ['j', 0.6],\n",
       " ['b', 0.6],\n",
       " ['l', 0.6]]"
      ]
     },
     "metadata": {},
     "execution_count": 4
    }
   ],
   "source": [
    "def frequence (message_chiffre):\n",
    "    resultat=[]\n",
    "    for c in message_chiffre:\n",
    "        if 97<= ord(c) <=122:\n",
    "            exist = True\n",
    "            for i in range (len(resultat)):\n",
    "                if resultat[i][0]==c:\n",
    "                    exist = False\n",
    "                    resultat[i][1]+= round(1/len(message_chiffre)*100,2)\n",
    "            if exist:\n",
    "                resultat.append([c,round(1/len(message_chiffre)*100,2)])\n",
    "                        \n",
    "    return sorted(resultat, key=lambda x: x[1], reverse=True)\n",
    "\n",
    "frequence(\"gx qosvlnkd wkvlkxo xiu vscx qno yd fsu cx qniix cx unkggx kdvsddyx xu vsdukxdu g'kdckvx. gxi gxuuoxi cy fsu cx qniix qxofxuuxdu cx cxvngxo gxi gxuuoxi cy fxiinmx sokmkdng fscygs 26. ixygxi gxi gxuuoxi cx n n a isdu vlkwwoxxi.\")\n",
    "\n",
    "\n",
    "frequence(\"dceuq e n ehfp cg p kyhhep uqfw cgiy citudm c gzudiq ni ezhd px c jhptv ep cggsht. kg hdtymdt xdzei gdx rzyq wir mvzxpw, cifcchdb znwd ccyw wy lkcsht, dp isgd uqfw wy ?\")\n",
    "\n"
   ]
  },
  {
   "cell_type": "code",
   "execution_count": 5,
   "metadata": {},
   "outputs": [
    {
     "output_type": "execute_result",
     "data": {
      "text/plain": [
       "[['uq', 3.75],\n",
       " ['cg', 3.75],\n",
       " ['hd', 3.75],\n",
       " ['ep', 2.5],\n",
       " ['qf', 2.5],\n",
       " ['fw', 2.5],\n",
       " ['ci', 2.5],\n",
       " ['ud', 2.5],\n",
       " ['sh', 2.5],\n",
       " ['ht', 2.5],\n",
       " ['dt', 2.5],\n",
       " ['gd', 2.5],\n",
       " ['cc', 2.5],\n",
       " ['wy', 2.5],\n",
       " ['dc', 1.25],\n",
       " ['ce', 1.25],\n",
       " ['eu', 1.25],\n",
       " ['eh', 1.25],\n",
       " ['hf', 1.25],\n",
       " ['fp', 1.25],\n",
       " ['ky', 1.25],\n",
       " ['yh', 1.25],\n",
       " ['hh', 1.25],\n",
       " ['he', 1.25],\n",
       " ['gi', 1.25],\n",
       " ['iy', 1.25],\n",
       " ['it', 1.25],\n",
       " ['tu', 1.25],\n",
       " ['dm', 1.25],\n",
       " ['gz', 1.25],\n",
       " ['zu', 1.25],\n",
       " ['di', 1.25],\n",
       " ['iq', 1.25],\n",
       " ['ni', 1.25],\n",
       " ['ez', 1.25],\n",
       " ['zh', 1.25],\n",
       " ['px', 1.25],\n",
       " ['jh', 1.25],\n",
       " ['hp', 1.25],\n",
       " ['pt', 1.25],\n",
       " ['tv', 1.25],\n",
       " ['gg', 1.25],\n",
       " ['gs', 1.25],\n",
       " ['t.', 1.25],\n",
       " ['kg', 1.25],\n",
       " ['ty', 1.25],\n",
       " ['ym', 1.25],\n",
       " ['md', 1.25],\n",
       " ['xd', 1.25],\n",
       " ['dz', 1.25],\n",
       " ['ze', 1.25],\n",
       " ['ei', 1.25],\n",
       " ['dx', 1.25],\n",
       " ['rz', 1.25],\n",
       " ['zy', 1.25],\n",
       " ['yq', 1.25],\n",
       " ['wi', 1.25],\n",
       " ['ir', 1.25],\n",
       " ['mv', 1.25],\n",
       " ['vz', 1.25],\n",
       " ['zx', 1.25],\n",
       " ['xp', 1.25],\n",
       " ['pw', 1.25],\n",
       " ['w,', 1.25],\n",
       " ['if', 1.25],\n",
       " ['fc', 1.25],\n",
       " ['ch', 1.25],\n",
       " ['db', 1.25],\n",
       " ['zn', 1.25],\n",
       " ['nw', 1.25],\n",
       " ['wd', 1.25],\n",
       " ['cy', 1.25],\n",
       " ['yw', 1.25],\n",
       " ['lk', 1.25],\n",
       " ['kc', 1.25],\n",
       " ['cs', 1.25],\n",
       " ['t,', 1.25],\n",
       " ['dp', 1.25],\n",
       " ['is', 1.25],\n",
       " ['sg', 1.25]]"
      ]
     },
     "metadata": {},
     "execution_count": 5
    }
   ],
   "source": [
    "def frequence_ngramme (message_chiffre, ngramme):\n",
    "    resultat=[]\n",
    "    # on récupère les mots dans un tableau\n",
    "    liste_mots = msg_chiffre.split(' ')\n",
    "    \n",
    "    # pour chaque mots on récupère la liste des ngrammes qui le constitue et leur fréquences\n",
    "    for mot in liste_mots:\n",
    "        if len(mot) >= ngramme:\n",
    "            for i in range( len(mot)- (ngramme-1) ):\n",
    "                exit = False\n",
    "                for c in mot[i:i+ngramme]:\n",
    "                    if 97>= ord(c) >=122:\n",
    "                        exit = True\n",
    "                if exit:\n",
    "                    continuea   \n",
    "                \n",
    "                exist = False\n",
    "                for j in range (len(resultat)):\n",
    "                    if resultat[j][0]==mot[i:i+ngramme]:\n",
    "                        exist = True\n",
    "                        resultat[j][1]+=1\n",
    "                if not exist:\n",
    "                    resultat.append([mot[i:i+ngramme],1])\n",
    "        res = [[i[0], round(i[1]/len(resultat)*100,2)] for i in resultat]\n",
    "    return sorted(res, key=lambda x: x[1], reverse=True)\n",
    "\n",
    "\n",
    "frequence_ngramme('dceuq e n ehfp cg p kyhhep uqfw cgiy citudm c gzudiq ni ezhd px c jhptv ep cggsht. kg hdtymdt xdzei gdx rzyq wir mvzxpw, cifcchdb znwd ccyw wy lkcsht, dp isgd uqfw wy ?', 2)"
   ]
  },
  {
   "cell_type": "code",
   "execution_count": 6,
   "metadata": {},
   "outputs": [
    {
     "output_type": "stream",
     "name": "stdout",
     "text": [
      "[['c', 7.799999999999998], ['d', 7.199999999999998], ['h', 5.3999999999999995], ['p', 4.8], ['g', 4.8], ['w', 4.8], ['i', 4.8], ['e', 4.2], ['y', 4.2], ['t', 3.6], ['z', 3.6], ['u', 3.0], ['q', 3.0], ['f', 2.4], ['x', 2.4], ['n', 1.7999999999999998], ['k', 1.7999999999999998], ['m', 1.7999999999999998], ['s', 1.7999999999999998], ['v', 1.2], ['r', 1.2], ['j', 0.6], ['b', 0.6], ['l', 0.6]]\n"
     ]
    }
   ],
   "source": [
    "frequence_lettre = frequence(msg_chiffre)\n",
    "print(frequence_lettre)"
   ]
  },
  {
   "cell_type": "code",
   "execution_count": 6,
   "metadata": {},
   "outputs": [
    {
     "output_type": "stream",
     "name": "stdout",
     "text": [
      "[['gx', 13.51], ['xi', 13.51], ['cx', 9.46], ['xu', 6.76], ['kd', 5.41], ['du', 5.41], ['uu', 5.41], ['ox', 5.41], ['vl', 4.05], ['xo', 4.05], ['vs', 4.05], ['qn', 4.05], ['fs', 4.05], ['ii', 4.05], ['ix', 4.05], ['sd', 4.05], ['uo', 4.05], ['cy', 4.05], ['nk', 2.7], ['kv', 2.7], ['lk', 2.7], ['kx', 2.7], ['sc', 2.7], ['su', 2.7], ['ni', 2.7], ['xd', 2.7], ['fx', 2.7], ['ng', 2.7], ['yg', 2.7], ['qo', 1.35], ['os', 1.35], ['sv', 1.35], ['ln', 1.35], ['wk', 1.35], ['iu', 1.35], ['no', 1.35], ['yd', 1.35], ['un', 1.35], ['kg', 1.35], ['gg', 1.35], ['dv', 1.35], ['dd', 1.35], ['dy', 1.35], ['yx', 1.35], ['uk', 1.35], [\"g'\", 1.35], [\"'k\", 1.35], ['dc', 1.35], ['ck', 1.35], ['vx', 1.35], ['x.', 1.35], ['qx', 1.35], ['of', 1.35], ['ux', 1.35], ['xv', 1.35], ['vn', 1.35], ['in', 1.35], ['nm', 1.35], ['mx', 1.35], ['so', 1.35], ['ok', 1.35], ['km', 1.35], ['mk', 1.35], ['dn', 1.35], ['gs', 1.35], ['26', 1.35], ['6.', 1.35], ['xy', 1.35], ['is', 1.35], ['kw', 1.35], ['ww', 1.35], ['wo', 1.35], ['xx', 1.35], ['i.', 1.35]]\n"
     ]
    }
   ],
   "source": [
    "frequence_bigramme = frequence_ngramme(msg_chiffre, 2)\n",
    "print(frequence_bigramme)"
   ]
  },
  {
   "cell_type": "code",
   "execution_count": 7,
   "metadata": {},
   "outputs": [
    {
     "output_type": "stream",
     "name": "stdout",
     "text": [
      "[['gxi', 4.71], ['xuu', 4.71], ['gxu', 3.53], ['uuo', 3.53], ['uox', 3.53], ['oxi', 3.53], ['vlk', 2.35], ['fsu', 2.35], ['qni', 2.35], ['nii', 2.35], ['iix', 2.35], ['vsd', 2.35], ['sdu', 2.35], ['xdu', 2.35], ['qos', 1.18], ['osv', 1.18], ['svl', 1.18], ['vln', 1.18], ['lnk', 1.18], ['nkd', 1.18], ['wkv', 1.18], ['kvl', 1.18], ['lkx', 1.18], ['kxo', 1.18], ['xiu', 1.18], ['vsc', 1.18], ['scx', 1.18], ['qno', 1.18], ['unk', 1.18], ['nkg', 1.18], ['kgg', 1.18], ['ggx', 1.18], ['kdv', 1.18], ['dvs', 1.18], ['sdd', 1.18], ['ddy', 1.18], ['dyx', 1.18], ['duk', 1.18], ['ukx', 1.18], ['kxd', 1.18], [\"g'k\", 1.18], [\"'kd\", 1.18], ['kdc', 1.18], ['dck', 1.18], ['ckv', 1.18], ['kvx', 1.18], ['vx.', 1.18], ['qxo', 1.18], ['xof', 1.18], ['ofx', 1.18], ['fxu', 1.18], ['uux', 1.18], ['uxd', 1.18], ['cxv', 1.18], ['xvn', 1.18], ['vng', 1.18], ['ngx', 1.18], ['gxo', 1.18], ['fxi', 1.18], ['xii', 1.18], ['iin', 1.18], ['inm', 1.18], ['nmx', 1.18], ['sok', 1.18], ['okm', 1.18], ['kmk', 1.18], ['mkd', 1.18], ['kdn', 1.18], ['dng', 1.18], ['fsc', 1.18], ['scy', 1.18], ['cyg', 1.18], ['ygs', 1.18], ['26.', 1.18], ['ixy', 1.18], ['xyg', 1.18], ['ygx', 1.18], ['isd', 1.18], ['lkw', 1.18], ['kww', 1.18], ['wwo', 1.18], ['wox', 1.18], ['oxx', 1.18], ['xxi', 1.18], ['xi.', 1.18]]\n"
     ]
    }
   ],
   "source": [
    "frequence_trigramme = frequence_ngramme(msg_chiffre, 3)\n",
    "print(frequence_trigramme)"
   ]
  },
  {
   "cell_type": "code",
   "execution_count": 8,
   "metadata": {},
   "outputs": [
    {
     "output_type": "execute_result",
     "data": {
      "text/plain": [
       "[['x', 15.839999999999995],\n",
       " ['i', 7.480000000000003],\n",
       " ['u', 7.480000000000003],\n",
       " ['g', 6.160000000000002],\n",
       " ['k', 4.840000000000001],\n",
       " ['d', 4.840000000000001],\n",
       " ['c', 4.840000000000001],\n",
       " ['o', 4.4],\n",
       " ['s', 4.4],\n",
       " ['n', 4.4]]"
      ]
     },
     "metadata": {},
     "execution_count": 8
    }
   ],
   "source": [
    "frequence_lettre[:10]"
   ]
  },
  {
   "cell_type": "code",
   "execution_count": 9,
   "metadata": {},
   "outputs": [
    {
     "output_type": "execute_result",
     "data": {
      "text/plain": [
       "[['gx', 13.51],\n",
       " ['xi', 13.51],\n",
       " ['cx', 9.46],\n",
       " ['xu', 6.76],\n",
       " ['kd', 5.41],\n",
       " ['du', 5.41],\n",
       " ['uu', 5.41],\n",
       " ['ox', 5.41],\n",
       " ['vl', 4.05],\n",
       " ['xo', 4.05]]"
      ]
     },
     "metadata": {},
     "execution_count": 9
    }
   ],
   "source": [
    "frequence_bigramme[:10]"
   ]
  },
  {
   "cell_type": "code",
   "execution_count": 10,
   "metadata": {},
   "outputs": [
    {
     "output_type": "execute_result",
     "data": {
      "text/plain": [
       "[['gxi', 4.71],\n",
       " ['xuu', 4.71],\n",
       " ['gxu', 3.53],\n",
       " ['uuo', 3.53],\n",
       " ['uox', 3.53],\n",
       " ['oxi', 3.53],\n",
       " ['vlk', 2.35],\n",
       " ['fsu', 2.35],\n",
       " ['qni', 2.35],\n",
       " ['nii', 2.35]]"
      ]
     },
     "metadata": {},
     "execution_count": 10
    }
   ],
   "source": [
    "frequence_trigramme[:10]"
   ]
  },
  {
   "cell_type": "code",
   "execution_count": 29,
   "metadata": {},
   "outputs": [],
   "source": [
    "import tkinter as tk \n",
    "\n",
    "def frequence2(message_chiffre):\n",
    "    resultat=[]\n",
    "    for c in message_chiffre :\n",
    "        if 97 <= ord(c) <= 122 :\n",
    "            exist=True\n",
    "            for i in range(len(resultat)):\n",
    "                if resultat[i][0]==c :\n",
    "                    exist= False  \n",
    "                    resultat[i][1]+=round(1/len(message_chiffre)*100,2)\n",
    "            if exist :\n",
    "                resultat.append([c, round(1/len(message_chiffre)*100,2)])\n",
    "\n",
    "    return resultat \n",
    "\n",
    "\n",
    "def rang(lettre):\n",
    "    return ord(lettre)-97\n",
    "\n",
    "def decalage(lettre_message, lettre_cle):\n",
    "    if 97 <= ord(lettre_message) <=122 :\n",
    "        return chr((rang(lettre_message)+rang(lettre_cle))%26 + 97)\n",
    "    else :\n",
    "        return lettre_message\n",
    "\n",
    "def dec_texte(texte,cle):\n",
    "    taille_cle = len(cle)\n",
    "    res = \"\"\n",
    "    for i in range(len(texte)):\n",
    "        res += decalage(texte[i],cle[i%taille_cle])\n",
    "    return res\n",
    "\n",
    "def chiffre():\n",
    "    resultat.delete(0,tk.END)\n",
    "    text=entree_texte.get()\n",
    "    cle=entree_cle.get()\n",
    "    if((len(text)>0) and (len(cle)>0)):\n",
    "        res=dec_texte(text,cle)\n",
    "        resultat.insert(0,res)\n",
    "    else:\n",
    "        resultat.insert(0,\"Il manque quelque chose\")\n",
    "\n",
    "\n",
    "\n",
    "racine=tk.Tk()\n",
    "racine.title(\"Cryptographie\")\n",
    "\n",
    "entree_texte = tk.Entry(racine, width = 50, font = (\"helvetica\", \"20\"))\n",
    "entree_texte.grid(row = 0, column = 0)\n",
    "\n",
    "entree_cle = tk.Entry(racine, width = 50, font = (\"helvetica\", \"20\"))\n",
    "entree_cle.grid(row = 1, column = 0)\n",
    "\n",
    "label_texte = tk.Label(racine,font = (\"helvetica\", \"20\"), text = \"Entrer le message ici.\")\n",
    "label_texte.grid(row = 0, column = 1)\n",
    "\n",
    "label_cle = tk.Label(racine,font = (\"helvetica\", \"20\"), text = \"Entrer la clé ici.\")\n",
    "label_cle.grid(row = 1, column = 1)\n",
    "\n",
    "label_dech = tk.Label(racine,font = (\"helvetica\", \"20\"), text = \"Déchiffre ici\")\n",
    "label_dech.grid(row = 3, column = 1)\n",
    "\n",
    "bouton_coder=tk.Button(racine, text=\"Chiffrer texte\",fg=\"black\", width=15, command=chiffre)\n",
    "bouton_coder.grid(row=2, column=0)\n",
    "\n",
    "bouton_decoder=tk.Button(racine,text=\"Déchiffrer texte\",fg=\"black\",  width=15,command=chiffre)\n",
    "bouton_decoder.grid(row=2, column=1)\n",
    "\n",
    "resultat=tk.Entry(racine,width = 50, font = (\"helvetica\", \"20\"))\n",
    "resultat.grid(row=3,column=0)\n",
    "\n",
    "\n",
    "racine.mainloop()"
   ]
  },
  {
   "cell_type": "code",
   "execution_count": 12,
   "metadata": {},
   "outputs": [
    {
     "output_type": "stream",
     "name": "stdout",
     "text": [
      "a: 0\nb: 1\nc: 2\nd: 3\ne: 4\nf: 5\ng: 6\nh: 7\ni: 8\nj: 9\nk: 10\nl: 11\nm: 12\nn: 13\no: 14\np: 15\nq: 16\nr: 17\ns: 18\nt: 19\nu: 20\nv: 21\nw: 22\nx: 23\ny: 24\nz: 25\n"
     ]
    }
   ],
   "source": [
    "for i in range (97, 123):\n",
    "    print(chr(i) + ': '+ str(i-97))"
   ]
  },
  {
   "cell_type": "code",
   "execution_count": 2,
   "metadata": {},
   "outputs": [
    {
     "output_type": "stream",
     "name": "stderr",
     "text": [
      "Exception in Tkinter callback\nTraceback (most recent call last):\n  File \"C:\\Users\\laure\\miniconda3\\lib\\tkinter\\__init__.py\", line 1883, in __call__\n    return self.func(*args)\n  File \"<ipython-input-2-692210ac66e2>\", line 49, in chiffre\n    res=dec_texte(text,cle)\nNameError: name 'dec_texte' is not defined\n"
     ]
    }
   ],
   "source": [
    "import tkinter as tk \n",
    "\n",
    "def frequence2(message_chiffre):\n",
    "    resultat=[]\n",
    "    for c in message_chiffre :\n",
    "        if 97 <= ord(c) <= 122 :\n",
    "            exist=True\n",
    "            for i in range(len(resultat)):\n",
    "                if resultat[i][0]==c :\n",
    "                    exist= False  \n",
    "                    resultat[i][1]+=round(1/len(message_chiffre)*100,2)\n",
    "            if exist :\n",
    "                resultat.append([c, round(1/len(message_chiffre)*100,2)])\n",
    "\n",
    "    return resultat \n",
    "\n",
    "\n",
    "def rang(lettre):\n",
    "    return ord(lettre)-97\n",
    "\n",
    "def substitution(lettre_message, cle):\n",
    "    if 97 <= ord(lettre_message) <=122 and 97 <= ord(cle[rang(lettre_message)]) <=122 :\n",
    "        return cle[rang(lettre_message)]\n",
    "    else :\n",
    "        return lettre_message\n",
    "\n",
    "def sub_texte(texte,cle):\n",
    "    taille_cle = len(cle)\n",
    "    res = \"\"\n",
    "    for i in range(len(texte)):\n",
    "        res += substitution(texte[i],cle)\n",
    "    return res\n",
    "\n",
    "def chiffre():\n",
    "    resultat.delete(0,tk.END)\n",
    "    text=entree_texte.get()\n",
    "    cle=entree_cle.get()\n",
    "    \n",
    "    if((len(text)>0) and (len(cle)==26)):\n",
    "        res=sub_texte(text,cle)\n",
    "        resultat.insert(0,res)\n",
    "    else:\n",
    "        resultat.insert(0,\"Il manque quelque chose\")\n",
    "def chiffre():\n",
    "    resultat.delete(0,tk.END)\n",
    "    text=entree_texte.get()\n",
    "    cle=entree_cle.get()\n",
    "    if((len(text)>0) and (len(cle)>0)):\n",
    "        res=dec_texte(text,cle)\n",
    "        resultat.insert(0,res)\n",
    "    else:\n",
    "        resultat.insert(0,\"Il manque quelque chose\")\n",
    "\n",
    "\n",
    "\n",
    "\n",
    "\n",
    "racine=tk.Tk()\n",
    "racine.title(\"Cryptographie\")\n",
    "\n",
    "entree_texte = tk.Entry(racine, width = 50, font = (\"helvetica\", \"20\"))\n",
    "entree_texte.grid(row = 0, column = 0)\n",
    "\n",
    "entree_cle = tk.Entry(racine, width = 50, font = (\"helvetica\", \"20\"))\n",
    "entree_cle.grid(row = 1, column = 0)\n",
    "\n",
    "label_texte = tk.Label(racine,font = (\"helvetica\", \"20\"), text = \"Entrer le message ici.\")\n",
    "label_texte.grid(row = 0, column = 1)\n",
    "\n",
    "label_cle = tk.Label(racine,font = (\"helvetica\", \"20\"), text = \"Entrer la clé ici.\")\n",
    "label_cle.grid(row = 1, column = 1)\n",
    "\n",
    "label_dech = tk.Label(racine,font = (\"helvetica\", \"20\"), text = \"Déchiffre ici\")\n",
    "label_dech.grid(row = 3, column = 1)\n",
    "\n",
    "bouton_coder=tk.Button(racine, text=\"Chiffrer texte\",fg=\"black\", width=15, command=chiffre)\n",
    "bouton_coder.grid(row=2, column=0)\n",
    "\n",
    "bouton_decoder=tk.Button(racine,text=\"Déchiffrer texte\",fg=\"black\",  width=15,command=chiffre)\n",
    "bouton_decoder.grid(row=2, column=1)\n",
    "\n",
    "resultat=tk.Entry(racine,width = 50, font = (\"helvetica\", \"20\"))\n",
    "resultat.grid(row=3,column=0)\n",
    "\n",
    "\n",
    "racine.mainloop()"
   ]
  },
  {
   "cell_type": "code",
   "execution_count": null,
   "metadata": {},
   "outputs": [],
   "source": []
  },
  {
   "cell_type": "code",
   "execution_count": 45,
   "metadata": {},
   "outputs": [
    {
     "output_type": "execute_result",
     "data": {
      "text/plain": [
       "\"gx qosvlnkd wkvlkxo xiu vscx qno yd fsu cx qniix cx unkggx kdvsddyx xu vsdukxdu g'kdckvx. gxi gxuuoxi cy fsu cx qniix qxofxuuxdu cx cxvngxo gxi gxuuoxi cy fxiinmx sokmkdng fscygs 26. ixygxi gxi gxuuoxi cx n n a isdu vlkwwoxxi.\""
      ]
     },
     "metadata": {},
     "execution_count": 45
    }
   ],
   "source": [
    "print(msg_chiffre)"
   ]
  },
  {
   "cell_type": "code",
   "execution_count": 19,
   "metadata": {},
   "outputs": [
    {
     "output_type": "execute_result",
     "data": {
      "text/plain": [
       "\"le prochain fichier est code par un mot de passe de taille inconnue et contient l'indice. les lettres du mot de passe permettent de decaler les lettres du message original modulo 26. seules les lettres de a a a sont chiffrees.\""
      ]
     },
     "metadata": {},
     "execution_count": 19
    }
   ],
   "source": [
    "sub_texte(msg_chiffree'00dn0ml0s0ihgar0p0o0tcfeu0'\")"
   ]
  },
  {
   "cell_type": "code",
   "execution_count": null,
   "metadata": {},
   "outputs": [],
   "source": [
    "# texte 2 : Pour trouver la cle j'ai d'abord regarder quelle est la lettre la plus frequente dans le message, c'est la lettre  x  , donc potentiellement la lettre e qui est la plus frequente dans la langue francaise. Ensuite j'ai vu grace a la fonction frequence_ngramme que le digramme le plus frequent est 'gx' et le digramme le plus utilisé en francais est 'le' donc g correspond à l. j'ai remarqué en comparant les textes 1 et 2 que les 3 premiers mots contenaient les memes nombres de lettres donc j'ai substitué les lettres au 3 premiers mots du texte 1 dechiffré . Grace a cela on peu deduire au fur et a mesure toutes les lettres. les 0 represente les lettres non substituées\n",
    "cle_prive = '00dn0ml0s0ihgar0p0o0tcfeu0'\n",
    "           # abcdefghijklmnopqrstuvwxyz"
   ]
  },
  {
   "cell_type": "code",
   "execution_count": null,
   "metadata": {},
   "outputs": [],
   "source": [
    "# texte 3 : on sait que c'est une cle par substitution cependant on ne connait pas la taille de la clé. on sait qu'il y a \"l'indice\" donc j'ai essayer de trouver ce mot puis au four et a mesure j'ai decoder le texte.\n",
    "cle_prive= ypwb"
   ]
  },
  {
   "cell_type": "code",
   "execution_count": 25,
   "metadata": {},
   "outputs": [
    {
     "output_type": "error",
     "ename": "NameError",
     "evalue": "name 'msg3' is not defined",
     "traceback": [
      "\u001b[1;31m---------------------------------------------------------------------------\u001b[0m",
      "\u001b[1;31mNameError\u001b[0m                                 Traceback (most recent call last)",
      "\u001b[1;32m<ipython-input-25-66ca04cfbc21>\u001b[0m in \u001b[0;36m<module>\u001b[1;34m\u001b[0m\n\u001b[1;32m----> 1\u001b[1;33m \u001b[0mprint\u001b[0m\u001b[1;33m(\u001b[0m\u001b[0mmsg3\u001b[0m\u001b[1;33m)\u001b[0m\u001b[1;33m\u001b[0m\u001b[1;33m\u001b[0m\u001b[0m\n\u001b[0m",
      "\u001b[1;31mNameError\u001b[0m: name 'msg3' is not defined"
     ]
    }
   ],
   "source": [
    "msg3 = dceuq e n' ehfp cg p 'kyhhep uqfw cgiy citudm c gzudiq ni ezhd px c jhptv ep cggsht. kg hdtymdt xdzei gdx rzyq wir mvzxpw, cifcchdb znwd ccyw wy lkcsht, dp isgd uqfw wy ?"
   ]
  },
  {
   "cell_type": "code",
   "execution_count": null,
   "metadata": {},
   "outputs": [],
   "source": []
  }
 ],
 "metadata": {
  "kernelspec": {
   "name": "python383jvsc74a57bd0b12c16fe729dd3475cd7e1774e7ffab5ff2f3e492d3c2a91f36f1d17f4044eda",
   "display_name": "Python 3.8.3 64-bit ('base': conda)"
  },
  "language_info": {
   "codemirror_mode": {
    "name": "ipython",
    "version": 3
   },
   "file_extension": ".py",
   "mimetype": "text/x-python",
   "name": "python",
   "nbconvert_exporter": "python",
   "pygments_lexer": "ipython3",
   "version": "3.8.3"
  },
  "metadata": {
   "interpreter": {
    "hash": "b12c16fe729dd3475cd7e1774e7ffab5ff2f3e492d3c2a91f36f1d17f4044eda"
   }
  }
 },
 "nbformat": 4,
 "nbformat_minor": 2
}